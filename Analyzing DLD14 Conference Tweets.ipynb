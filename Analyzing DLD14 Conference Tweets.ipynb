{
 "metadata": {
  "name": ""
 },
 "nbformat": 3,
 "nbformat_minor": 0,
 "worksheets": [
  {
   "cells": [
    {
     "cell_type": "heading",
     "level": 1,
     "metadata": {},
     "source": [
      "Text-Mining the DLD14 Conference"
     ]
    },
    {
     "cell_type": "markdown",
     "metadata": {},
     "source": [
      "This is the IPython Notebook behind <a href=\"http://beautifuldata.net/2014/01/text-mining-the-dld-conference-2014/\">this analysis of Twitter buzz to the DLD Conference 2014</a>."
     ]
    },
    {
     "cell_type": "heading",
     "level": 2,
     "metadata": {},
     "source": [
      "Reading the data"
     ]
    },
    {
     "cell_type": "markdown",
     "metadata": {},
     "source": [
      "The Tweets for this analysis have been collected with the TAGS Google Drive script and the search query \"#DLD13 OR #DLD\". The data (\"Archive\" tab) have then been exported as CSV file. Because the TAGS document tends to reach the Google Documents size limits quite fast, I have split the data gathering in multiple TAGS files.\n",
      "\n",
      "The first step of the analysis is to read the CSV files and combine them into a single file. This step also requires to delete duplicate Tweets."
     ]
    },
    {
     "cell_type": "code",
     "collapsed": false,
     "input": [
      "import pandas as pd\n",
      "# 1st file\n",
      "data = pd.read_csv('TAGS - DLD14 - Archive.csv', \n",
      "                   parse_dates={'Timestamp': ['created_at']})\n",
      "\n",
      "# 2nd file\n",
      "data = data.append(pd.read_csv('TAGS DLD14.2 - Archive.csv', \n",
      "                    parse_dates={'Timestamp': ['created_at']}))\n",
      "\n",
      "# 3rd file etc.\n",
      "data = data.append(pd.read_csv('TAGS DLD14.3 - Archive.csv', \n",
      "                    parse_dates={'Timestamp': ['created_at']}))\n",
      "data = data.append(pd.read_csv('TAGS DLD14.4 - Archive.csv', \n",
      "                    parse_dates={'Timestamp': ['created_at']}))\n",
      "data = data.append(pd.read_csv('TAGS DLD14.5 - Archive.csv', \n",
      "                    parse_dates={'Timestamp': ['created_at']}))"
     ],
     "language": "python",
     "metadata": {},
     "outputs": [],
     "prompt_number": 2
    },
    {
     "cell_type": "code",
     "collapsed": false,
     "input": [
      "data_old = pd.read_csv(\"dld13.csv\", sep=\",\",\n",
      "                       parse_dates={'Timestamp': ['created_at']})"
     ],
     "language": "python",
     "metadata": {},
     "outputs": [],
     "prompt_number": 3
    },
    {
     "cell_type": "markdown",
     "metadata": {},
     "source": [
      "The following is an example for duplicate content. We have to clean the data set to get rid of duplicate tweets."
     ]
    },
    {
     "cell_type": "code",
     "collapsed": false,
     "input": [
      "from collections import Counter\n",
      "\n",
      "c = Counter(data.id_str)\n",
      "data[data.id_str == c.most_common()[1][0]][:3]"
     ],
     "language": "python",
     "metadata": {},
     "outputs": [
      {
       "html": [
        "<div style=\"max-height:1000px;max-width:1500px;overflow:auto;\">\n",
        "<table border=\"1\" class=\"dataframe\">\n",
        "  <thead>\n",
        "    <tr style=\"text-align: right;\">\n",
        "      <th></th>\n",
        "      <th>Timestamp</th>\n",
        "      <th>id_str</th>\n",
        "      <th>from_user</th>\n",
        "      <th>text</th>\n",
        "      <th>time</th>\n",
        "      <th>geo_coordinates</th>\n",
        "      <th>user_lang</th>\n",
        "      <th>in_reply_to_user_id_str</th>\n",
        "      <th>in_reply_to_screen_name</th>\n",
        "      <th>from_user_id_str</th>\n",
        "      <th>in_reply_to_status_id_str</th>\n",
        "      <th>source</th>\n",
        "      <th>profile_image_url</th>\n",
        "      <th>user_followers_count</th>\n",
        "      <th>user_friends_count</th>\n",
        "      <th>user_utc_offset</th>\n",
        "      <th>status_url</th>\n",
        "      <th>entities_str</th>\n",
        "    </tr>\n",
        "  </thead>\n",
        "  <tbody>\n",
        "    <tr>\n",
        "      <th>6904 </th>\n",
        "      <td>2014-01-19 12:01:09</td>\n",
        "      <td> 4.248742e+17</td>\n",
        "      <td> ardakutsal</td>\n",
        "      <td> RT @atillayurtseven: @webrazzi #DLD14 medya sp...</td>\n",
        "      <td> 19/01/2014 12:01:09</td>\n",
        "      <td> NaN</td>\n",
        "      <td> en</td>\n",
        "      <td>NaN</td>\n",
        "      <td> NaN</td>\n",
        "      <td> 43854330</td>\n",
        "      <td>NaN</td>\n",
        "      <td> &lt;a href=\"http://twitter.com/download/iphone\" r...</td>\n",
        "      <td> http://pbs.twimg.com/profile_images/3027796712...</td>\n",
        "      <td> 18151</td>\n",
        "      <td> 676</td>\n",
        "      <td> 7200</td>\n",
        "      <td> http://twitter.com/ardakutsal/statuses/4248741...</td>\n",
        "      <td> {\"symbols\":[],\"urls\":[],\"hashtags\":[{\"text\":\"D...</td>\n",
        "    </tr>\n",
        "    <tr>\n",
        "      <th>9072 </th>\n",
        "      <td>2014-01-19 12:01:09</td>\n",
        "      <td> 4.248742e+17</td>\n",
        "      <td> ardakutsal</td>\n",
        "      <td> RT @atillayurtseven: @webrazzi #DLD14 medya sp...</td>\n",
        "      <td> 19/01/2014 12:01:09</td>\n",
        "      <td> NaN</td>\n",
        "      <td> en</td>\n",
        "      <td>NaN</td>\n",
        "      <td> NaN</td>\n",
        "      <td> 43854330</td>\n",
        "      <td>NaN</td>\n",
        "      <td> &lt;a href=\"http://twitter.com/download/iphone\" r...</td>\n",
        "      <td> http://pbs.twimg.com/profile_images/3027796712...</td>\n",
        "      <td> 18149</td>\n",
        "      <td> 676</td>\n",
        "      <td> 7200</td>\n",
        "      <td> http://twitter.com/ardakutsal/statuses/4248741...</td>\n",
        "      <td> {\"symbols\":[],\"urls\":[],\"hashtags\":[{\"text\":\"D...</td>\n",
        "    </tr>\n",
        "    <tr>\n",
        "      <th>11010</th>\n",
        "      <td>2014-01-19 12:01:09</td>\n",
        "      <td> 4.248742e+17</td>\n",
        "      <td> ardakutsal</td>\n",
        "      <td> RT @atillayurtseven: @webrazzi #DLD14 medya sp...</td>\n",
        "      <td> 19/01/2014 12:01:09</td>\n",
        "      <td> NaN</td>\n",
        "      <td> en</td>\n",
        "      <td>NaN</td>\n",
        "      <td> NaN</td>\n",
        "      <td> 43854330</td>\n",
        "      <td>NaN</td>\n",
        "      <td> &lt;a href=\"http://twitter.com/download/iphone\" r...</td>\n",
        "      <td> http://pbs.twimg.com/profile_images/3027796712...</td>\n",
        "      <td> 18148</td>\n",
        "      <td> 676</td>\n",
        "      <td> 7200</td>\n",
        "      <td> http://twitter.com/ardakutsal/statuses/4248741...</td>\n",
        "      <td> {\"symbols\":[],\"urls\":[],\"hashtags\":[{\"text\":\"D...</td>\n",
        "    </tr>\n",
        "  </tbody>\n",
        "</table>\n",
        "</div>"
       ],
       "metadata": {},
       "output_type": "pyout",
       "prompt_number": 4,
       "text": [
        "                Timestamp        id_str   from_user  \\\n",
        "6904  2014-01-19 12:01:09  4.248742e+17  ardakutsal   \n",
        "9072  2014-01-19 12:01:09  4.248742e+17  ardakutsal   \n",
        "11010 2014-01-19 12:01:09  4.248742e+17  ardakutsal   \n",
        "\n",
        "                                                    text                 time  \\\n",
        "6904   RT @atillayurtseven: @webrazzi #DLD14 medya sp...  19/01/2014 12:01:09   \n",
        "9072   RT @atillayurtseven: @webrazzi #DLD14 medya sp...  19/01/2014 12:01:09   \n",
        "11010  RT @atillayurtseven: @webrazzi #DLD14 medya sp...  19/01/2014 12:01:09   \n",
        "\n",
        "      geo_coordinates user_lang  in_reply_to_user_id_str  \\\n",
        "6904              NaN        en                      NaN   \n",
        "9072              NaN        en                      NaN   \n",
        "11010             NaN        en                      NaN   \n",
        "\n",
        "      in_reply_to_screen_name  from_user_id_str  in_reply_to_status_id_str  \\\n",
        "6904                      NaN          43854330                        NaN   \n",
        "9072                      NaN          43854330                        NaN   \n",
        "11010                     NaN          43854330                        NaN   \n",
        "\n",
        "                                                  source  \\\n",
        "6904   <a href=\"http://twitter.com/download/iphone\" r...   \n",
        "9072   <a href=\"http://twitter.com/download/iphone\" r...   \n",
        "11010  <a href=\"http://twitter.com/download/iphone\" r...   \n",
        "\n",
        "                                       profile_image_url  \\\n",
        "6904   http://pbs.twimg.com/profile_images/3027796712...   \n",
        "9072   http://pbs.twimg.com/profile_images/3027796712...   \n",
        "11010  http://pbs.twimg.com/profile_images/3027796712...   \n",
        "\n",
        "       user_followers_count  user_friends_count  user_utc_offset  \\\n",
        "6904                  18151                 676             7200   \n",
        "9072                  18149                 676             7200   \n",
        "11010                 18148                 676             7200   \n",
        "\n",
        "                                              status_url  \\\n",
        "6904   http://twitter.com/ardakutsal/statuses/4248741...   \n",
        "9072   http://twitter.com/ardakutsal/statuses/4248741...   \n",
        "11010  http://twitter.com/ardakutsal/statuses/4248741...   \n",
        "\n",
        "                                            entities_str  \n",
        "6904   {\"symbols\":[],\"urls\":[],\"hashtags\":[{\"text\":\"D...  \n",
        "9072   {\"symbols\":[],\"urls\":[],\"hashtags\":[{\"text\":\"D...  \n",
        "11010  {\"symbols\":[],\"urls\":[],\"hashtags\":[{\"text\":\"D...  "
       ]
      }
     ],
     "prompt_number": 4
    },
    {
     "cell_type": "heading",
     "level": 2,
     "metadata": {},
     "source": [
      "Data Cleaning"
     ]
    },
    {
     "cell_type": "markdown",
     "metadata": {},
     "source": [
      "Remove entries that have a broken date."
     ]
    },
    {
     "cell_type": "code",
     "collapsed": false,
     "input": [
      "data = data[data['Timestamp'] >= '2014-01-10']"
     ],
     "language": "python",
     "metadata": {},
     "outputs": [],
     "prompt_number": 387
    },
    {
     "cell_type": "markdown",
     "metadata": {},
     "source": [
      "To de-duplicate the data, I used a rather unsophisticated hack: I removed all the columns that were responsible for differences in otherwise duplicate content. E.g. people were gaining followers between two sweeps of Twitter searches and their entries no longer were identified duplicate. Alternatively, the de-duplication could be done with the id_str column."
     ]
    },
    {
     "cell_type": "code",
     "collapsed": false,
     "input": [
      "tweets = {}\n",
      "\n",
      "# Reduce data frame\n",
      "tweets['2014'] = data[['Timestamp', 'id_str', 'from_user', 'source', 'text']]\n",
      "tweets['2013'] = data_old[['Timestamp', 'id_str', 'from_user', 'source', 'text']]\n",
      "\n",
      "for year in ['2013', '2014']:\n",
      "    # De-dup\n",
      "    tweets[year] = tweets[year].drop_duplicates()\n",
      "    # Set Timestamp as index for the DataFrame\n",
      "    tweets[year] = tweets[year].set_index('Timestamp')"
     ],
     "language": "python",
     "metadata": {},
     "outputs": [],
     "prompt_number": 388
    },
    {
     "cell_type": "markdown",
     "metadata": {},
     "source": [
      "Because the Twitter API and also the TAGS script changed between 2013 and 2014, the collected data must be further cleaned and homogenized in order to allow for comparisons. E.g. To compare the data-sets for 2013 and 2014 I reversed the 2014 entry for \"web\" as a Twitter client to the old value of '<a href=\"http://twitter.com\">web</a>'. This makes the extraction of the Twitter clients much easier."
     ]
    },
    {
     "cell_type": "code",
     "collapsed": false,
     "input": [
      "tweets['2014']['source'][tweets['2014']['source'] == 'web'] = '<a href=\"http://twitter.com\">web</a>'\n",
      "tweets['2013']['source'] = [x.replace('&lt;', '<').replace('&gt;', '>').replace('&quot;', '\"') \n",
      "                            for x in tweets['2013']['source']]\n",
      "\n",
      "for year in ['2013', '2014']:\n",
      "    tweets[year]['source'] = [x.replace('  ', ' ') for x in tweets[year]['source']]"
     ],
     "language": "python",
     "metadata": {},
     "outputs": [],
     "prompt_number": 389
    },
    {
     "cell_type": "markdown",
     "metadata": {},
     "source": [
      "This is one of the most important parts. Now our dataframe gets translated into a real timeline. I'm aggregating all the Tweets by 15 minute intervals. But you can play around with those values to find other solutions."
     ]
    },
    {
     "cell_type": "code",
     "collapsed": false,
     "input": [
      "ticks = {}\n",
      "\n",
      "for year in ['2013', '2014']:\n",
      "    tweets[year]['Tweets'] = 1\n",
      "    ticks[year] = tweets[year].ix[:, ['Tweets']]\n",
      "    ticks[year] = ticks[year].Tweets.resample('15min', how='count')"
     ],
     "language": "python",
     "metadata": {},
     "outputs": [],
     "prompt_number": 390
    },
    {
     "cell_type": "heading",
     "level": 2,
     "metadata": {},
     "source": [
      "Data Analysis"
     ]
    },
    {
     "cell_type": "markdown",
     "metadata": {},
     "source": [
      "Let's do a first visualization of the buzz for the conference:"
     ]
    },
    {
     "cell_type": "code",
     "collapsed": false,
     "input": [
      "%matplotlib inline \n",
      "import matplotlib.pyplot as plt\n",
      "\n",
      "#plt.figure(figsize=(10,6))\n",
      "plt.title('DLD14 Conference Buzz')\n",
      "plt.ylabel('Number of Tweets')\n",
      "ticks[\"2014\"].ix['2014-01-18':'2014-01-22'].plot()\n",
      "plt.savefig('DLD14_Buzz.png')"
     ],
     "language": "python",
     "metadata": {},
     "outputs": [
      {
       "metadata": {},
       "output_type": "display_data",
       "png": "[encoded data removed]",
       "text": [
        "<matplotlib.figure.Figure at 0x19b7df98>"
       ]
      }
     ],
     "prompt_number": 490
    },
    {
     "cell_type": "markdown",
     "metadata": {},
     "source": [
      "Which year had the highest peak? See answer below."
     ]
    },
    {
     "cell_type": "code",
     "collapsed": false,
     "input": [
      "print max(ticks[\"2013\"])\n",
      "print max(ticks[\"2014\"])"
     ],
     "language": "python",
     "metadata": {},
     "outputs": [
      {
       "output_type": "stream",
       "stream": "stdout",
       "text": [
        "247\n",
        "346\n"
       ]
      }
     ],
     "prompt_number": 392
    },
    {
     "cell_type": "markdown",
     "metadata": {},
     "source": [
      "DLD 2013 had been one year before DLD 2014. To overlay both buzz timelines, these value have to be time-shifted."
     ]
    },
    {
     "cell_type": "code",
     "collapsed": false,
     "input": [
      "ticks[\"2014o\"] = ticks[\"2014\"] * 1.0\n",
      "ticks[\"2013o\"] = ticks[\"2013\"].tshift(364, freq=\"d\")"
     ],
     "language": "python",
     "metadata": {},
     "outputs": [],
     "prompt_number": 484
    },
    {
     "cell_type": "markdown",
     "metadata": {},
     "source": [
      "Here's a direct comparison of 2013 and 2014."
     ]
    },
    {
     "cell_type": "code",
     "collapsed": false,
     "input": [
      "fig, ax = plt.subplots()\n",
      "ticks[\"2013o\"].ix['2014-01-18':'2014-01-23'].plot(color=\"red\", label=\"DLD 2013\")\n",
      "ticks[\"2014o\"].ix['2014-01-18':'2014-01-23'].plot(label=\"DLD 2014\")\n",
      "legend = ax.legend(loc='upper left', shadow=True)\n",
      "plt.xlabel('Date')\n",
      "plt.title('#DLD14 Conference Buzz')\n",
      "plt.ylabel('Number of Tweets')\n",
      "#plt.show()\n",
      "plt.savefig('DLD14_Buzz_Comp_Comparison.png')"
     ],
     "language": "python",
     "metadata": {},
     "outputs": [
      {
       "metadata": {},
       "output_type": "display_data",
       "png": "[encoded data removed]",
       "text": [
        "<matplotlib.figure.Figure at 0x1f69d4e0>"
       ]
      }
     ],
     "prompt_number": 491
    },
    {
     "cell_type": "markdown",
     "metadata": {},
     "source": [
      "Let's take a look at the clients people were using in 2014 and compare them to 2013. Which Twitter devices have gained importance?"
     ]
    },
    {
     "cell_type": "code",
     "collapsed": false,
     "input": [
      "from prettytable import PrettyTable\n",
      "import re\n",
      "import prettytable\n",
      "devices = {}\n",
      "\n",
      "for y in tweets:\n",
      "    devices[y] = tweets[y].groupby(\"source\", as_index=False)[\"source\", \"Tweets\"].sum()\n",
      "  \n",
      "dev_names = []\n",
      "dev_count = []\n",
      "    \n",
      "for x in devices[\"2014\"][\"source\"]:\n",
      "    m = re.match(\"<.*>(.*)</a>\", x)\n",
      "    try:\n",
      "        dev_names.append(m.group(1))\n",
      "        dev_count.extend(devices[\"2014\"][\"Tweets\"][devices[\"2014\"][\"source\"] == x])\n",
      "    except AttributeError:\n",
      "        pass\n",
      "        \n",
      "       \n",
      "d = pd.DataFrame({\"Device\": dev_names, \"Tweets_2014\": dev_count})\n",
      "d[\"Rel_2014\"] = 100.0 * d[\"Tweets_2014\"] / sum(d[\"Tweets_2014\"])\n",
      "\n",
      "dev_names = []\n",
      "dev_count = []\n",
      "\n",
      "for x in devices[\"2013\"][\"source\"]:\n",
      "    m = re.match(\"<.*>(.*)</a>\", x)\n",
      "    try:\n",
      "        dev_names.append(m.group(1))\n",
      "        dev_count.extend(devices[\"2013\"][\"Tweets\"][devices[\"2013\"][\"source\"] == x])\n",
      "    except AttributeError:\n",
      "        pass\n",
      "\n",
      "e = pd.DataFrame({\"Device\": dev_names, \"Tweets_2013\": dev_count})\n",
      "e[\"Rel_2013\"] = 100.0 * e[\"Tweets_2013\"] / sum(e[\"Tweets_2013\"])\n",
      "\n",
      "f = pd.merge(d, e, how=\"outer\", on=\"Device\")\n",
      "f[\"Growth\"] = f.Rel_2014 / f.Rel_2013\n",
      "\n",
      "tb = f[(f['Rel_2014'] >= 0.05) & (f['Growth'] >= 0)].sort(columns=\"Growth\", ascending=False)[[\"Device\", \"Rel_2013\", \"Rel_2014\", \"Growth\"]]\n",
      "tb.columns = [\"Device\", \"% 2013\", \"% 2014\", \"Index\"]\n",
      "tb[\"% 2014\"] = tb[\"% 2014\"].round(2)\n",
      "tb[\"% 2013\"] = tb[\"% 2013\"].round(2)\n",
      "tb[\"Index\"] = (100*tb[\"Index\"]).round(1)\n",
      "\n",
      "pt = PrettyTable(field_names=[\"Twitter Clients #DLD14\", \"Percent 2013\", \"Percent 2014\", \"Index\"]) \n",
      "[pt.add_row(a[1]) for a in tb.iterrows()]\n",
      "pt.align[pt.align['Twitter Clients #DLD14'], pt.align['Percent 2013'], pt.align['Percent 2014'], pt.align['Index']] = 'l', 'r', 'r', 'r'\n",
      "print pt\n",
      "\n"
     ],
     "language": "python",
     "metadata": {},
     "outputs": [
      {
       "output_type": "stream",
       "stream": "stdout",
       "text": [
        "+---------------------------+--------------+--------------+-------+\n",
        "|   Twitter Clients #DLD14  | Percent 2013 | Percent 2014 | Index |\n",
        "+---------------------------+--------------+--------------+-------+\n",
        "|  TweetCaster for Android  |     0.12     |     0.5      | 426.2 |\n",
        "|           IFTTT           |     0.16     |     0.7      | 424.8 |\n",
        "|          Janetter         |     0.02     |     0.09     | 398.1 |\n",
        "|          dlvr.it          |     0.74     |     2.49     | 337.5 |\n",
        "|            iOS            |     0.21     |     0.68     | 322.6 |\n",
        "|          Storify          |     0.04     |     0.08     | 218.5 |\n",
        "|          Facebook         |     0.16     |     0.35     | 210.7 |\n",
        "|         TweetList!        |     0.75     |     1.3      | 173.4 |\n",
        "|     Plume\u00a0for\u00a0Android     |     0.11     |     0.18     | 171.7 |\n",
        "|    Twitter for Android    |     4.67     |     7.95     | 170.1 |\n",
        "|         Flipboard         |     0.19     |     0.32     | 169.8 |\n",
        "|       Sprout Social       |     0.07     |     0.12     | 163.9 |\n",
        "|        Twitterrific       |     0.61     |     0.99     | 162.1 |\n",
        "|        twitterfeed        |     2.96     |     4.61     | 155.5 |\n",
        "|      Twitter for iPad     |     3.76     |     5.0      | 132.9 |\n",
        "|      Mobile Web (M5)      |     0.56     |     0.74     | 130.7 |\n",
        "|           Buffer          |     0.35     |     0.45     | 128.0 |\n",
        "|     Twitter for iPhone    |    17.48     |    22.21     | 127.1 |\n",
        "|    TweetCaster for iOS    |     0.06     |     0.07     | 121.8 |\n",
        "|      Tweetbot for iOS     |     2.4      |     2.9      | 120.6 |\n",
        "|         TweetDeck         |     6.16     |     6.94     | 112.6 |\n",
        "|        Tweet Button       |     2.59     |     2.9      | 112.1 |\n",
        "| Twitter for Windows Phone |     0.26     |     0.29     | 110.7 |\n",
        "|      Tweetbot for Mac     |     0.46     |     0.5      | 109.3 |\n",
        "|      Twitter for Mac      |     1.57     |     1.67     | 106.6 |\n",
        "|          Echofon          |     0.87     |     0.86     |  99.4 |\n",
        "|         HootSuite         |     4.29     |     4.15     |  96.9 |\n",
        "|      Mobile Web (M2)      |     0.28     |     0.25     |  87.8 |\n",
        "|         Instagram         |     1.3      |     1.08     |  82.7 |\n",
        "|         MetroTwit         |     0.08     |     0.07     |  80.3 |\n",
        "|           Botize          |     0.13     |     0.09     |  72.4 |\n",
        "|          SharedBy         |     0.19     |     0.13     |  67.3 |\n",
        "|            OS X           |     0.08     |     0.05     |  66.9 |\n",
        "|         foursquare        |     0.61     |     0.4      |  65.7 |\n",
        "|          LinkedIn         |     0.13     |     0.08     |  63.9 |\n",
        "|            web            |    39.28     |    22.37     |  57.0 |\n",
        "|  Twitter for BlackBerry\u00ae  |     2.1      |     0.61     |  29.3 |\n",
        "|        Twittelator        |     0.35     |     0.07     |  20.3 |\n",
        "|    Twitter for Android    |     4.67     |     0.24     |  5.2  |\n",
        "+---------------------------+--------------+--------------+-------+\n"
       ]
      }
     ],
     "prompt_number": 395
    },
    {
     "cell_type": "markdown",
     "metadata": {},
     "source": [
      "Now to the content. Here's a few lines that do some data munging with the Tweet texts."
     ]
    },
    {
     "cell_type": "code",
     "collapsed": false,
     "input": [
      "import nltk\n",
      "bigram_measures = nltk.collocations.BigramAssocMeasures()\n",
      "stop = nltk.corpus.stopwords.words('english')\n",
      "stop = stop + nltk.corpus.stopwords.words('german')\n",
      "\n",
      "text = {}\n",
      "words = {}\n",
      "\n",
      "for year in tweets:\n",
      "    raw = \" \".join(tweets[year][\"text\"])\n",
      "    tokens = nltk.WordPunctTokenizer().tokenize(raw)\n",
      "    text[year] = nltk.Text(tokens)\n",
      "    words[year] = [w.lower() for w in text[year]]\n",
      "    words[year] = [w for w in words[year] if len(w) > 2]\n",
      "    words[year] = [w for w in words[year] if w not in stop]\n",
      "    words[year] = filter(lambda word: word not in '\"\\'!%,-:()$\\/;?.\u2019\u2013\u201c\u201d#@&', words[year])\n",
      "    words[year] = [w for w in words[year] if w not in [\"://\", \"http\", \"co\", \"rt\", \"va\", \"l\", \"se\", \"...\", \".\\\"\", \n",
      "                                                       \"amp\", \"us\", \"en\", \"el\", \"y\", \"de\", \"que\", \"via\", \"12\", \n",
      "                                                       \"000\", \"hoy\", \"por\", \"les\", \"per\", \"la\", \"los\", \"5\", \"1\", \n",
      "                                                       \".@\", \"con\"]]\n",
      "    words[year] = [w.replace(\"\\xe2\", \"\") for w in words[year]]\n",
      "    words[year] = [w.replace(\"\\xc3\", \"\") for w in words[year]]\n",
      "    words[year] = [w.replace(\"\\xb3\", \"\") for w in words[year]]"
     ],
     "language": "python",
     "metadata": {},
     "outputs": [],
     "prompt_number": 396
    },
    {
     "cell_type": "markdown",
     "metadata": {},
     "source": [
      "How many words have been used in 2013 and 2014? Let's compare the lexical diversity."
     ]
    },
    {
     "cell_type": "code",
     "collapsed": false,
     "input": [
      "numwords = {}\n",
      "uniwords = {}\n",
      "lexi = {}\n",
      "\n",
      "for year in text:\n",
      "    numwords[year] = len(text[year])\n",
      "    uniwords[year] = len(set(text[year]))\n",
      "    lexi[year] = 1.0*numwords[year]/uniwords[year]\n",
      "\n",
      "print numwords\n",
      "print uniwords\n",
      "print lexi"
     ],
     "language": "python",
     "metadata": {},
     "outputs": [
      {
       "output_type": "stream",
       "stream": "stdout",
       "text": [
        "{'2014': 487592, '2013': 195371}\n",
        "{'2014': 24124, '2013': 15607}\n",
        "{'2014': 20.21190515669043, '2013': 12.518164925994746}\n"
       ]
      }
     ],
     "prompt_number": 488
    },
    {
     "cell_type": "markdown",
     "metadata": {},
     "source": [
      "Printing the Top 25 trending (= growing in frequency) words in 2014"
     ]
    },
    {
     "cell_type": "code",
     "collapsed": false,
     "input": [
      "from prettytable import PrettyTable\n",
      "import codecs\n",
      "\n",
      "for year in numwords:\n",
      "    freq_table[\"Perc_\" + year] = 100.0 * freq_table[\"Freq_\" + year] / numwords[year]\n",
      "\n",
      "for year in [\"2014\"]:\n",
      "    freq_table[\"Growth_\" + year] = 100.0 * freq_table[\"Perc_\" + year] / freq_table[\"Perc_\" + str(int(year)-1)]\n",
      "\n",
      "    tb = freq_table[freq_table['Perc_' + str(year)] >= 0.09].sort(columns=\"Growth_\" + str(year), \n",
      "                                                                  ascending=False)[[\"Word\", \"Freq_\" + str(year), \n",
      "                                                                                    \"Perc_\" + str(year), \n",
      "                                                                                    \"Growth_\" + str(year)]]\n",
      "    tb.columns = [\"Word\", \"Freq\", \"Percent\", \"Index\"]\n",
      "    tb.Index = tb['Index'].round(1)\n",
      "    tb.Percent = tb['Percent'].round(4)\n",
      "    \n",
      "    pt = PrettyTable(field_names=[str(year), 'Frequency', 'Percent', \"Index\"]) \n",
      "    [pt.add_row(a[1]) for a in tb[:25].iterrows()]\n",
      "    pt.align[str(year)], pt.align['Frequency'], pt.align['Percent'], pt.align['Index'] = 'l', 'r', 'r', 'r'\n",
      "\n",
      "    print pt"
     ],
     "language": "python",
     "metadata": {},
     "outputs": [
      {
       "output_type": "stream",
       "stream": "stdout",
       "text": [
        "+---------------+-----------+---------+----------+\n",
        "| 2014          | Frequency | Percent |    Index |\n",
        "+---------------+-----------+---------+----------+\n",
        "| dld14         |     16075 |  3.2968 | 322050.9 |\n",
        "| billion       |       646 |  0.1325 |   2157.0 |\n",
        "| experience    |       492 |  0.1009 |   1159.6 |\n",
        "| founder       |       512 |   0.105 |    820.6 |\n",
        "| anked         |       439 |    0.09 |    586.3 |\n",
        "| user          |       450 |  0.0923 |    487.3 |\n",
        "| bill_gross    |      1919 |  0.3936 |    427.2 |\n",
        "| today         |       644 |  0.1321 |    248.1 |\n",
        "| todo          |       541 |   0.111 |    240.9 |\n",
        "| marketing     |       485 |  0.0995 |    234.1 |\n",
        "| ceo           |       777 |  0.1594 |    225.6 |\n",
        "| google        |       703 |  0.1442 |    199.8 |\n",
        "| mobile        |       748 |  0.1534 |    168.4 |\n",
        "| internet      |       594 |  0.1218 |    165.3 |\n",
        "| day           |       644 |  0.1321 |    160.3 |\n",
        "| great         |       810 |  0.1661 |    144.9 |\n",
        "| digital       |       877 |  0.1799 |    129.7 |\n",
        "| jeffjarvis    |       470 |  0.0964 |    121.5 |\n",
        "| people        |       612 |  0.1255 |    116.8 |\n",
        "| live          |       545 |  0.1118 |     97.1 |\n",
        "| dldconference |      1134 |  0.2326 |     72.9 |\n",
        "| munich        |       472 |  0.0968 |     66.1 |\n",
        "| new           |       498 |  0.1021 |     56.4 |\n",
        "| dld           |      1399 |  0.2869 |     48.0 |\n",
        "| data          |       623 |  0.1278 |     44.4 |\n",
        "+---------------+-----------+---------+----------+\n"
       ]
      }
     ],
     "prompt_number": 399
    },
    {
     "cell_type": "markdown",
     "metadata": {},
     "source": [
      "Top words in 2014"
     ]
    },
    {
     "cell_type": "code",
     "collapsed": false,
     "input": [
      "tb = freq_table.sort(columns=\"Perc_2014\", ascending=False)[[\"Word\", \"Freq_\" + str(year), \"Perc_\" + str(year), \n",
      "                                                            \"Growth_\" + str(year)]]\n",
      "tb.columns = [\"Word\", \"Freq\", \"Percent\", \"Index\"]\n",
      "tb.Index = tb['Index'].round(1)\n",
      "tb.Percent = tb['Percent'].round(4)\n",
      "\n",
      "pt = PrettyTable(field_names=[\"Top 2014\", 'Frequency', 'Percent', \"Index\"]) \n",
      "[pt.add_row(a[1]) for a in tb[:25].iterrows()]\n",
      "pt.align[\"Top 2014\"], pt.align['Frequency'], pt.align['Percent'], pt.align['Index'] = 'l', 'r', 'r', 'r'\n",
      "\n",
      "print pt"
     ],
     "language": "python",
     "metadata": {},
     "outputs": [
      {
       "output_type": "stream",
       "stream": "stdout",
       "text": [
        "+---------------+-----------+---------+----------+\n",
        "| Top 2014      | Frequency | Percent |    Index |\n",
        "+---------------+-----------+---------+----------+\n",
        "| dld14         |     16075 |  3.2968 | 322050.9 |\n",
        "| bill_gross    |      1919 |  0.3936 |    427.2 |\n",
        "| dld           |      1399 |  0.2869 |     48.0 |\n",
        "| dldconference |      1134 |  0.2326 |     72.9 |\n",
        "| digital       |       877 |  0.1799 |    129.7 |\n",
        "| great         |       810 |  0.1661 |    144.9 |\n",
        "| ceo           |       777 |  0.1594 |    225.6 |\n",
        "| mobile        |       748 |  0.1534 |    168.4 |\n",
        "| google        |       703 |  0.1442 |    199.8 |\n",
        "| billion       |       646 |  0.1325 |   2157.0 |\n",
        "| day           |       644 |  0.1321 |    160.3 |\n",
        "| today         |       644 |  0.1321 |    248.1 |\n",
        "| data          |       623 |  0.1278 |     44.4 |\n",
        "| people        |       612 |  0.1255 |    116.8 |\n",
        "| internet      |       594 |  0.1218 |    165.3 |\n",
        "| live          |       545 |  0.1118 |     97.1 |\n",
        "| todo          |       541 |   0.111 |    240.9 |\n",
        "| founder       |       512 |   0.105 |    820.6 |\n",
        "| new           |       498 |  0.1021 |     56.4 |\n",
        "| experience    |       492 |  0.1009 |   1159.6 |\n",
        "| marketing     |       485 |  0.0995 |    234.1 |\n",
        "| munich        |       472 |  0.0968 |     66.1 |\n",
        "| jeffjarvis    |       470 |  0.0964 |    121.5 |\n",
        "| user          |       450 |  0.0923 |    487.3 |\n",
        "| anked         |       439 |    0.09 |    586.3 |\n",
        "+---------------+-----------+---------+----------+\n"
       ]
      }
     ],
     "prompt_number": 400
    },
    {
     "cell_type": "markdown",
     "metadata": {},
     "source": [
      "Top Words in 2013"
     ]
    },
    {
     "cell_type": "code",
     "collapsed": false,
     "input": [
      "tb = freq_table.sort(columns=\"Perc_2013\", ascending=False)[[\"Word\", \"Freq_2013\", \"Perc_2013\"]]\n",
      "tb.columns = [\"Word\", \"Freq\", \"Percent\"]\n",
      "tb.Percent = tb['Percent'].round(4)\n",
      "\n",
      "pt = PrettyTable(field_names=[\"Top 2013\", 'Frequency', 'Percent']) \n",
      "[pt.add_row(a[1]) for a in tb[:25].iterrows()]\n",
      "pt.align[\"Top 2013\"], pt.align['Frequency'], pt.align['Percent'] = 'l', 'r', 'r'\n",
      "\n",
      "print pt"
     ],
     "language": "python",
     "metadata": {},
     "outputs": [
      {
       "output_type": "stream",
       "stream": "stdout",
       "text": [
        "+---------------+-----------+---------+\n",
        "| Top 2013      | Frequency | Percent |\n",
        "+---------------+-----------+---------+\n",
        "| dld13         |      7808 |  3.9965 |\n",
        "| dld           |      1167 |  0.5973 |\n",
        "| dldconference |       623 |  0.3189 |\n",
        "| data          |       562 |  0.2877 |\n",
        "| big           |       481 |  0.2462 |\n",
        "| new           |       354 |  0.1812 |\n",
        "| love          |       351 |  0.1797 |\n",
        "| like          |       343 |  0.1756 |\n",
        "| munich        |       286 |  0.1464 |\n",
        "| digital       |       271 |  0.1387 |\n",
        "| live          |       225 |  0.1152 |\n",
        "| great         |       224 |  0.1147 |\n",
        "| see           |       219 |  0.1121 |\n",
        "| sex           |       215 |    0.11 |\n",
        "| media         |       214 |  0.1095 |\n",
        "| future        |       211 |   0.108 |\n",
        "| people        |       210 |  0.1075 |\n",
        "| really        |       195 |  0.0998 |\n",
        "| times         |       193 |  0.0988 |\n",
        "| conference    |       184 |  0.0942 |\n",
        "| york          |       182 |  0.0932 |\n",
        "| bill_gross    |       180 |  0.0921 |\n",
        "| mobile        |       178 |  0.0911 |\n",
        "| social        |       176 |  0.0901 |\n",
        "| day           |       161 |  0.0824 |\n",
        "+---------------+-----------+---------+\n"
       ]
      }
     ],
     "prompt_number": 401
    },
    {
     "cell_type": "markdown",
     "metadata": {},
     "source": [
      "Top Bigrams in 2014 and 2013"
     ]
    },
    {
     "cell_type": "code",
     "collapsed": false,
     "input": [
      "from prettytable import PrettyTable\n",
      "from nltk.collocations import *\n",
      "\n",
      "bigram_measures = nltk.collocations.BigramAssocMeasures()\n",
      "trigram_measures = nltk.collocations.TrigramAssocMeasures()\n",
      "\n",
      "for year in [\"2013\", \"2014\"]:\n",
      "    words[year] = [w.replace(\"\\x80\", \"\") for w in words[year]]\n",
      "    words[year] = [w.replace(\"\\x99\", \"\") for w in words[year]]\n",
      "    words[year] = [w for w in words[year] if w not in [\"como\", \"oro\", \"las\", \"nadie\", \"cmo\", \"todos\", \"hablan\", \"una\", \"hacerlo\", \n",
      "                                                       \"sabe\", \")\", \"todo\", \"decidir\", \"slo\", \"adida\"]]\n",
      "    print \"Top Bigrams \" + str(year)\n",
      "    finder = BigramCollocationFinder.from_words(words[year])\n",
      "    scored = finder.score_ngrams(bigram_measures.raw_freq)\n",
      "\n",
      "    pt = PrettyTable(field_names=['Bigram', 'Frequency']) \n",
      "    [ pt.add_row([\" \".join(kv[0]), round(kv[1], 4)]) for kv in scored[:35] ]\n",
      "    pt.align['Bigram'], pt.align['Frequency'] = 'l', 'r' # Set column alignment\n",
      "    \n",
      "    print pt\n"
     ],
     "language": "python",
     "metadata": {},
     "outputs": [
      {
       "output_type": "stream",
       "stream": "stdout",
       "text": [
        "Top Bigrams 2013\n",
        "+---------------------+-----------+\n",
        "| Bigram              | Frequency |\n",
        "+---------------------+-----------+\n",
        "| big data            |     0.005 |\n",
        "| new york            |    0.0024 |\n",
        "| dld13 dldconference |    0.0022 |\n",
        "| york times          |     0.002 |\n",
        "| times dld13         |    0.0019 |\n",
        "| dld13 tenemos       |    0.0018 |\n",
        "| tenemos abrirnos    |    0.0018 |\n",
        "| sulzberger new      |    0.0018 |\n",
        "| abrirnos redes      |    0.0018 |\n",
        "| redes sociales      |    0.0018 |\n",
        "| adolescentes dld13  |    0.0017 |\n",
        "| comparado sexo      |    0.0017 |\n",
        "| entre adolescentes  |    0.0017 |\n",
        "| sexo entre          |    0.0017 |\n",
        "| data comparado      |    0.0017 |\n",
        "| dean ornish         |    0.0016 |\n",
        "| convergencia zorra  |    0.0015 |\n",
        "| dld13 convergencia  |    0.0015 |\n",
        "| partners dld13      |    0.0015 |\n",
        "| kawaja luma         |    0.0015 |\n",
        "| luma partners       |    0.0015 |\n",
        "| dld13 dld           |    0.0014 |\n",
        "| dld13 ltwnds        |    0.0012 |\n",
        "| teenage sex         |    0.0012 |\n",
        "| ben horowitz        |    0.0012 |\n",
        "| jeffjarvis dld13    |    0.0012 |\n",
        "| future authority    |    0.0012 |\n",
        "| like teenage        |    0.0012 |\n",
        "| data like           |    0.0011 |\n",
        "| ozlem_denizmen dld  |    0.0011 |\n",
        "| dld13 ibcmunich     |    0.0011 |\n",
        "| ornish dld13        |     0.001 |\n",
        "| sex everybody       |     0.001 |\n",
        "| dldconference dld13 |     0.001 |\n",
        "| social media        |     0.001 |\n",
        "+---------------------+-----------+"
       ]
      },
      {
       "output_type": "stream",
       "stream": "stdout",
       "text": [
        "\n",
        "Top Bigrams 2014"
       ]
      },
      {
       "output_type": "stream",
       "stream": "stdout",
       "text": [
        "\n",
        "+-----------------------+-----------+\n",
        "| Bigram                | Frequency |\n",
        "+-----------------------+-----------+\n",
        "| dld14 bill_gross      |    0.0029 |\n",
        "| rovio dld14           |    0.0025 |\n",
        "| user experience       |    0.0021 |\n",
        "| vesterbacka rovio     |     0.002 |\n",
        "| dld14 user            |     0.002 |\n",
        "| bill_gross whatsapp   |     0.002 |\n",
        "| today dld14           |    0.0017 |\n",
        "| jimmy wales           |    0.0016 |\n",
        "| active users          |    0.0016 |\n",
        "| million active        |    0.0015 |\n",
        "| billion smartphones   |    0.0014 |\n",
        "| earlier today         |    0.0014 |\n",
        "| users engineers       |    0.0014 |\n",
        "| 435 million           |    0.0014 |\n",
        "| engineers 10m         |    0.0014 |\n",
        "| whatsapp 435          |    0.0014 |\n",
        "| 10m actives           |    0.0014 |\n",
        "| actives engineer      |    0.0013 |\n",
        "| dld14 bitcoin         |    0.0013 |\n",
        "| people check          |    0.0012 |\n",
        "| engineer dld14        |    0.0011 |\n",
        "| 150x day              |    0.0011 |\n",
        "| check 150x            |    0.0011 |\n",
        "| smartphones worldwide |    0.0011 |\n",
        "| hubert burda          |    0.0011 |\n",
        "| moore law             |     0.001 |\n",
        "| bitcoin ventaja       |     0.001 |\n",
        "| dldconference dld14   |     0.001 |\n",
        "| ventaja puedes        |     0.001 |\n",
        "| puedes verdad         |     0.001 |\n",
        "| verdad pagar          |     0.001 |\n",
        "| joe schoendorf        |    0.0009 |\n",
        "| cheaper build         |    0.0009 |\n",
        "| day every             |    0.0009 |\n",
        "| dld14 qu              |    0.0009 |\n",
        "+-----------------------+-----------+"
       ]
      },
      {
       "output_type": "stream",
       "stream": "stdout",
       "text": [
        "\n"
       ]
      }
     ],
     "prompt_number": 402
    },
    {
     "cell_type": "markdown",
     "metadata": {},
     "source": [
      "Find the context for a word."
     ]
    },
    {
     "cell_type": "code",
     "collapsed": false,
     "input": [
      "text[\"2014\"].concordance(\"xenon\")"
     ],
     "language": "python",
     "metadata": {},
     "outputs": [
      {
       "output_type": "stream",
       "stream": "stdout",
       "text": [
        "Displaying 25 of 166 matches:\n",
        "12 , 000 transistors . Intel ' s new Xenon has 5 BILLION and Moore ' s Law is S\n",
        "12 , 000 transistors . Intel ' s new Xenon has 5 BILLION and Moore ' s Law is S\n",
        "12 , 000 transistors . Intel ' s new Xenon has 5 BILLION and Moore ' s Law is S\n",
        "12 , 000 transistors . Intel ' s new Xenon has 5 BILLION and Moore ' s Law is S\n",
        "12 , 000 transistors . Intel ' s new Xenon has 5 BILLION and Moore ' s Law is S\n",
        "12 , 000 transistors . Intel ' s new Xenon has 5 BILLION and Moore ' s Law is S\n",
        "12 , 000 transistors . Intel ' s new Xenon has 5 BILLION and Moore ' s Law is S\n",
        "12 , 000 transistors . Intel ' s new Xenon has 5 BILLION and Moore ' s Law is S\n",
        "12 , 000 transistors . Intel ' s new Xenon has 5 BILLION and Moore ' s Law is S\n",
        "12 , 000 transistors . Intel ' s new Xenon has 5 BILLION and Moore ' s Law is S\n",
        "12 , 000 transistors . Intel ' s new Xenon has 5 BILLION and Moore ' s Law is S\n",
        "12 , 000 transistors . Intel ' s new Xenon has 5 BILLION and Moore ' s Law is S\n",
        "12 , 000 transistors . Intel ' s new Xenon has 5 BILLION and Moore ' s Law is S\n",
        "12 , 000 transistors . Intel ' s new Xenon has 5 BILLION and Moore ' s Law is S\n",
        "12 , 000 transistors . Intel ' s new Xenon has 5 BILLION and Moore ' s Law is S\n",
        "12 , 000 transistors . Intel ' s new Xenon has 5 BILLION and Moore ' s Law is S\n",
        "12 , 000 transistors . Intel ' s new Xenon has 5 BILLION and Moore ' s Law is S\n",
        "12 , 000 transistors . Intel ' s new Xenon has 5 BILLION and Moore ' s Law is S\n",
        "12 , 000 transistors . Intel ' s new Xenon has 5 BILLION and Moore ' s Law is S\n",
        "12 , 000 transistors . Intel ' s new Xenon has 5 BILLION and Moore ' s Law is S\n",
        "12 , 000 transistors . Intel ' s new Xenon has 5 BILLION and Moore ' s Law is S\n",
        "12 , 000 transistors . Intel ' s new Xenon has 5 BILLION and Moore ' s Law is S\n",
        "12 , 000 transistors . Intel ' s new Xenon has 5 BILLION and Moore ' s Law is S\n",
        "12 , 000 transistors . Intel ' s new Xenon has 5 BILLION and Moore ' s Law is S\n",
        "12 , 000 transistors . Intel ' s new Xenon has 5 BILLION and Moore ' s Law is S\n"
       ]
      }
     ],
     "prompt_number": 130
    },
    {
     "cell_type": "markdown",
     "metadata": {},
     "source": [
      "Visualizing different words over time"
     ]
    },
    {
     "cell_type": "code",
     "collapsed": false,
     "input": [
      "\n",
      "query = [\"xenon\", \"wales\", \"data\", \"rovio\"]\n",
      "col = [\"red\", \"blue\", \"green\", \"black\"]\n",
      "data = tweets[\"2014\"]\n",
      "data['text'] = data['text'].apply(str.lower)\n",
      "results = {}\n",
      "\n",
      "fig, ax = plt.subplots()\n",
      "\n",
      "for q in range(len(query)):\n",
      "    results[q] = data[data[\"text\"].str.contains(query[q])].ix[:, ['Tweets']]\n",
      "    results[q] = results[q].Tweets.resample('30min', how='count')\n",
      "    results[q].ix['2014-01-19':'2014-01-22'].plot(color=col[q], label=query[q])\n",
      "\n",
      "legend = ax.legend(loc='upper right', shadow=True)\n",
      "plt.xlabel('Date')\n",
      "plt.title('#DLD14 Conference Buzz for ' + \", \".join(query))\n",
      "plt.ylabel('Number of Tweets')"
     ],
     "language": "python",
     "metadata": {},
     "outputs": [
      {
       "metadata": {},
       "output_type": "pyout",
       "prompt_number": 482,
       "text": [
        "<matplotlib.text.Text at 0x2066c4e0>"
       ]
      },
      {
       "metadata": {},
       "output_type": "display_data",
       "png": "[encoded data removed]",
       "text": [
        "<matplotlib.figure.Figure at 0x1f9e24a8>"
       ]
      }
     ],
     "prompt_number": 482
    }
   ],
   "metadata": {}
  }
 ]
}